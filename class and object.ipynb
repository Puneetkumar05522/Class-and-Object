{
 "cells": [
  {
   "attachments": {},
   "cell_type": "markdown",
   "metadata": {},
   "source": [
    "# Class And Objects\n",
    "Class : A python class is a group of attributes and method\n",
    "# Syntex : class class_name(object):\n",
    "\n",
    "Object : Object is a class type variable or class instance . To use class we should create an object to the class\n",
    "# Syntex : Object_name = class_name(Argument)\n"
   ]
  },
  {
   "cell_type": "code",
   "execution_count": 1,
   "metadata": {},
   "outputs": [
    {
     "name": "stdout",
     "output_type": "stream",
     "text": [
      "Model: Redmi 10\n"
     ]
    }
   ],
   "source": [
    "# Example1:\n",
    "class Mobile:\n",
    "    def __init__(self):\n",
    "        self.model = \"Redmi 10\"\n",
    "    def show_model(self):\n",
    "        print(\"Model:\",self.model)\n",
    "redmi = Mobile()\n",
    "redmi.show_model()\n",
    "\n",
    "\n"
   ]
  },
  {
   "cell_type": "code",
   "execution_count": 2,
   "metadata": {},
   "outputs": [
    {
     "name": "stdout",
     "output_type": "stream",
     "text": [
      "Model: Realme3, Price: 11000\n",
      "1748544699472\n",
      "\n",
      "Model: Poco M4 pro, Price: 13000\n",
      "1748544699664\n"
     ]
    }
   ],
   "source": [
    "class Mobile(object):  #object are inbuilt in Python.\n",
    "    def __init__(self,m):\n",
    "        self.model = m\n",
    "    def show_model(self,p):\n",
    "        price = p\n",
    "        print(\"Model:\",self.model,\"Price:\",p)\n",
    "realme=Mobile(\"Realme3,\")\n",
    "realme.show_model(11000)\n",
    "print(id(realme))\n",
    "print()\n",
    "poco=Mobile(\"Poco M4 pro,\") #Every Object 'id' is different\n",
    "poco.show_model(13000)\n",
    "print(id(poco))\n"
   ]
  },
  {
   "cell_type": "code",
   "execution_count": 3,
   "metadata": {},
   "outputs": [
    {
     "name": "stdout",
     "output_type": "stream",
     "text": [
      "Model: Redmi Note 10\n"
     ]
    }
   ],
   "source": [
    "# Example2\n",
    "class Mobile:\n",
    "    def __init__(self): #Constructor without parameter\n",
    "        self.model=\"Redmi Note 10\"\n",
    "    def show_model(self):\n",
    "        print(\"Model:\",self.model)\n",
    "redmi=Mobile()\n",
    "redmi.show_model()"
   ]
  },
  {
   "cell_type": "code",
   "execution_count": 4,
   "metadata": {},
   "outputs": [
    {
     "name": "stdout",
     "output_type": "stream",
     "text": [
      "Model: POCO M4 Pro 5G, Price: 15000\n",
      "Volume: 100\n"
     ]
    }
   ],
   "source": [
    "# Example3\n",
    "class Mobile:\n",
    "    def __init__(self,m,v=100):\n",
    "        self.model=m\n",
    "        self.volume=v\n",
    "    def show_model(self,p):\n",
    "        price=p\n",
    "        print(\"Model:\",self.model,\"Price:\",p)\n",
    "        print(\"Volume:\",self.volume)\n",
    "redmi=Mobile(\"POCO M4 Pro 5G,\")\n",
    "redmi.show_model(15000)\n",
    "\n",
    "\n"
   ]
  },
  {
   "attachments": {},
   "cell_type": "markdown",
   "metadata": {},
   "source": [
    "# Type of variable\n",
    "1- Inastance Variable\n",
    "2- Class Variable / Static Variable\n"
   ]
  },
  {
   "cell_type": "code",
   "execution_count": 15,
   "metadata": {},
   "outputs": [
    {
     "name": "stdout",
     "output_type": "stream",
     "text": [
      "Redmi Note 7\n",
      "Nokia\n",
      "Realme 3\n"
     ]
    }
   ],
   "source": [
    "# Instance Variable:-Instance variable are the variable whose seprate copy is created in every object.\n",
    "# Accesssing Instance Variable:-\n",
    "class Mobile:\n",
    "    def __init__(self):\n",
    "        self.model=\"Redmi Note 7\" #Instance Variable\n",
    "    def show_model(self): #Instance Method\n",
    "        print(self.model) #Accessing Instance Variable\n",
    "redmi=Mobile()  #Object\n",
    "redmi.show_model()\n",
    "\n",
    "# Change the Parameter\n",
    "redmi.model=\"Nokia\"\n",
    "print(redmi.model)\n",
    "\n",
    "# Create Another Object\n",
    "realme=Mobile()\n",
    "realme.model=\"Realme 3\"\n",
    "print(realme.model)\n"
   ]
  }
 ],
 "metadata": {
  "kernelspec": {
   "display_name": "Python 3",
   "language": "python",
   "name": "python3"
  },
  "language_info": {
   "codemirror_mode": {
    "name": "ipython",
    "version": 3
   },
   "file_extension": ".py",
   "mimetype": "text/x-python",
   "name": "python",
   "nbconvert_exporter": "python",
   "pygments_lexer": "ipython3",
   "version": "3.11.1"
  },
  "orig_nbformat": 4,
  "vscode": {
   "interpreter": {
    "hash": "7e5c0badbb2d24bbc3f94f0128230c51073dab69f6205fe8338cbe6039d785c3"
   }
  }
 },
 "nbformat": 4,
 "nbformat_minor": 2
}
