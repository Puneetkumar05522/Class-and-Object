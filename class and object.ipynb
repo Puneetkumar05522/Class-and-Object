{
 "cells": [
  {
   "attachments": {},
   "cell_type": "markdown",
   "metadata": {},
   "source": [
    "# Class And Objects\n",
    "Class : A python class is a group of attributes and method\n",
    "# Syntex : class class_name(object):\n",
    "\n",
    "Object : Object is a class type variable or class instance . To use class we should create an object to the class\n",
    "# Syntex : Object_name = class_name(Argument)\n"
   ]
  },
  {
   "cell_type": "code",
   "execution_count": 6,
   "metadata": {},
   "outputs": [
    {
     "name": "stdout",
     "output_type": "stream",
     "text": [
      "Model: Redmi 10\n"
     ]
    }
   ],
   "source": [
    "# Example1:\n",
    "class Mobile:\n",
    "    def __init__(self):\n",
    "        self.model = \"Redmi 10\"\n",
    "    def show_model(self):\n",
    "        print(\"Model:\",self.model)\n",
    "redmi = Mobile()\n",
    "redmi.show_model()\n",
    "\n",
    "\n"
   ]
  },
  {
   "cell_type": "code",
   "execution_count": 13,
   "metadata": {},
   "outputs": [
    {
     "name": "stdout",
     "output_type": "stream",
     "text": [
      "Model: Realme3, Price: 11000\n",
      "2185366689104\n",
      "\n",
      "Model: Poco M4 pro, Price: 13000\n",
      "2185366501712\n"
     ]
    }
   ],
   "source": [
    "class Mobile(object):  #object are inbuilt in Python.\n",
    "    def __init__(self,m):\n",
    "        self.model = m\n",
    "    def show_model(self,p):\n",
    "        price = p\n",
    "        print(\"Model:\",self.model,\"Price:\",p)\n",
    "realme=Mobile(\"Realme3,\")\n",
    "realme.show_model(11000)\n",
    "print(id(realme))\n",
    "print()\n",
    "poco=Mobile(\"Poco M4 pro,\") #Every Object 'id' is different\n",
    "poco.show_model(13000)\n",
    "print(id(poco))\n"
   ]
  }
 ],
 "metadata": {
  "kernelspec": {
   "display_name": "Python 3",
   "language": "python",
   "name": "python3"
  },
  "language_info": {
   "codemirror_mode": {
    "name": "ipython",
    "version": 3
   },
   "file_extension": ".py",
   "mimetype": "text/x-python",
   "name": "python",
   "nbconvert_exporter": "python",
   "pygments_lexer": "ipython3",
   "version": "3.11.1"
  },
  "orig_nbformat": 4,
  "vscode": {
   "interpreter": {
    "hash": "7e5c0badbb2d24bbc3f94f0128230c51073dab69f6205fe8338cbe6039d785c3"
   }
  }
 },
 "nbformat": 4,
 "nbformat_minor": 2
}
